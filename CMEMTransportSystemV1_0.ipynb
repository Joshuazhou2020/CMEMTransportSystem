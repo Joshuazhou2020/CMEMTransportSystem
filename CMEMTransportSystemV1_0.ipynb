{
  "nbformat": 4,
  "nbformat_minor": 0,
  "metadata": {
    "colab": {
      "name": "CMEMTransportSystemV1.0",
      "version": "0.3.2",
      "provenance": [],
      "collapsed_sections": [
        "JndnmDMp66FL"
      ],
      "include_colab_link": true
    }
  },
  "cells": [
    {
      "cell_type": "markdown",
      "metadata": {
        "id": "view-in-github",
        "colab_type": "text"
      },
      "source": [
        "<a href=\"https://colab.research.google.com/github/Joshuazhou2020/CMEMTransportSystem/blob/master/CMEMTransportSystemV1_0.ipynb\" target=\"_parent\"><img src=\"https://colab.research.google.com/assets/colab-badge.svg\" alt=\"Open In Colab\"/></a>"
      ]
    },
    {
      "metadata": {
        "colab_type": "text",
        "id": "JndnmDMp66FL"
      },
      "cell_type": "markdown",
      "source": [
        "#### Copyright 2017 Google LLC."
      ]
    },
    {
      "metadata": {
        "cellView": "both",
        "colab_type": "code",
        "id": "hMqWDc_m6rUC",
        "colab": {}
      },
      "cell_type": "code",
      "source": [
        "# Licensed under the Apache License, Version 2.0 (the \"License\");\n",
        "# you may not use this file except in compliance with the License.\n",
        "# You may obtain a copy of the License at\n",
        "#\n",
        "# https://www.apache.org/licenses/LICENSE-2.0\n",
        "#\n",
        "# Unless required by applicable law or agreed to in writing, software\n",
        "# distributed under the License is distributed on an \"AS IS\" BASIS,\n",
        "# WITHOUT WARRANTIES OR CONDITIONS OF ANY KIND, either express or implied.\n",
        "# See the License for the specific language governing permissions and\n",
        "# limitations under the License."
      ],
      "execution_count": 0,
      "outputs": []
    },
    {
      "metadata": {
        "colab_type": "text",
        "id": "4f3CKqFUqL2-"
      },
      "cell_type": "markdown",
      "source": [
        "# CMEMTransportSystemV1.0\n",
        "\n",
        "  * Train model  `LinearRegressor` class in TensorFlow by using it to predict  voltage and speed, at the granularity of x, t, y\n",
        "  * Use a validation data set and test set to make sure that our model will generalize and is not overfitting the training data.\n",
        "  * Use test data only after tuning hyperparameters as a measure of how the model will generalize to new data\n",
        "  * [TBD] Create synthetic features from the existing features \n",
        "  * [TBD] More practice with feature transformations including identifying and clipping (removing) outliers out of the input data to obtain the best model\n",
        "\n",
        "Reference:\n",
        "https://research.google.com/seedbank/seed/5730827476402176\n"
      ]
    },
    {
      "metadata": {
        "colab_type": "text",
        "id": "UHU_WK5Z2gsw"
      },
      "cell_type": "markdown",
      "source": [
        "### Standard Set-up\n",
        "\n",
        "We begin with the same set-up as in the last lab."
      ]
    },
    {
      "metadata": {
        "cellView": "both",
        "colab_type": "code",
        "id": "P5_-Nmc52gsy",
        "colab": {}
      },
      "cell_type": "code",
      "source": [
        "import math\n",
        "\n",
        "from IPython import display\n",
        "from matplotlib import cm\n",
        "from matplotlib import gridspec\n",
        "from matplotlib import pyplot as plt\n",
        "import numpy as np\n",
        "import pandas as pd\n",
        "from mpl_toolkits.mplot3d import Axes3D\n",
        "from sklearn import metrics\n",
        "import tensorflow as tf\n",
        "from tensorflow.contrib.learn.python.learn import learn_io, estimator\n",
        "\n",
        "# This line increases the amount of logging when there is an error. You can\n",
        "# remove it if you want less logging.\n",
        "tf.logging.set_verbosity(tf.logging.ERROR)\n",
        "\n",
        "# Set the output display to have two digits for decimal places, for display\n",
        "# readability only and limit it to printing 15 rows.\n",
        "pd.options.display.float_format = '{:.2f}'.format\n",
        "pd.options.display.max_rows = 15\n"
      ],
      "execution_count": 0,
      "outputs": []
    },
    {
      "metadata": {
        "colab_type": "text",
        "id": "RG4WjoRq7we3"
      },
      "cell_type": "markdown",
      "source": [
        "Read the data and randomize the order."
      ]
    },
    {
      "metadata": {
        "id": "F--RZSS1RYmD",
        "colab_type": "code",
        "colab": {}
      },
      "cell_type": "code",
      "source": [
        "!pip install --upgrade -q gspread\n",
        "from google.colab import auth\n",
        "auth.authenticate_user()\n",
        "\n",
        "import gspread\n",
        "from oauth2client.client import GoogleCredentials\n",
        "\n",
        "gc = gspread.authorize(GoogleCredentials.get_application_default())"
      ],
      "execution_count": 0,
      "outputs": []
    },
    {
      "metadata": {
        "colab_type": "code",
        "id": "WrtTmerb7wOT",
        "outputId": "e30e63a4-6bb6-48e8-995f-ad23830fd530",
        "colab": {
          "base_uri": "https://localhost:8080/",
          "height": 170
        }
      },
      "cell_type": "code",
      "source": [
        "# Open our new sheet and read some data.\n",
        "#test_data \n",
        "#dataUrl=\"https://docs.google.com/spreadsheets/d/1o8kPJ4znCkSNA89-AmLVTFoodQzFyxnlf6pSOtQMWNw/edit#gid=1683593853\"\n",
        "#starter_plastic_magnet\n",
        "dataUrl=\"https://docs.google.com/spreadsheets/d/1A3W1thd6JHuuVD3CyXXqsDApIhlonA63n_f3wXzQjH8/edit#gid=1532774856\"\n",
        "label=\"speed\"\n",
        "#label=\"voltage\"\n",
        "\n",
        "head=16\n",
        "tail=16\n",
        "\n",
        "\n",
        "worksheet = gc.open_by_url(dataUrl).worksheet(\"test_\"+label+\"_data\")\n",
        "\n",
        "# get_all_values gives a list of rows.\n",
        "rows = worksheet.get_all_values()\n",
        "#print(rows)\n",
        "\n",
        "# Convert to a DataFrame and render.\n",
        "import pandas as pf\n",
        "\n",
        "df=pf.DataFrame.from_records(rows)\n",
        "df.columns = [\"x\", \"t\", \"y\", \"s\"]\n",
        "df.apply(pf.to_numeric)\n",
        "\n",
        "df[\"x\"] = df.x.astype(float)\n",
        "df[\"t\"] = df.y.astype(float)\n",
        "df[\"y\"] = df.y.astype(float)\n",
        "df[\"s\"] = df.s.astype(float)\n",
        "\n",
        "\n",
        "df = df.reindex(np.random.permutation(df.index))\n",
        "df.describe()\n",
        "\n",
        "df.info()\n",
        "\n",
        "\n",
        "\n",
        "\n"
      ],
      "execution_count": 0,
      "outputs": [
        {
          "output_type": "stream",
          "text": [
            "<class 'pandas.core.frame.DataFrame'>\n",
            "Int64Index: 118 entries, 78 to 64\n",
            "Data columns (total 4 columns):\n",
            "x    118 non-null float64\n",
            "t    118 non-null float64\n",
            "y    118 non-null float64\n",
            "s    118 non-null float64\n",
            "dtypes: float64(4)\n",
            "memory usage: 4.6 KB\n"
          ],
          "name": "stdout"
        }
      ]
    },
    {
      "metadata": {
        "id": "1NpW87ZiATLB",
        "colab_type": "text"
      },
      "cell_type": "markdown",
      "source": [
        "Load Test data"
      ]
    },
    {
      "metadata": {
        "id": "CQm2FQZWAU4V",
        "colab_type": "code",
        "outputId": "27576e3f-66bd-40a1-fcba-bc3e449d5460",
        "colab": {
          "base_uri": "https://localhost:8080/",
          "height": 170
        }
      },
      "cell_type": "code",
      "source": [
        "# Open our new sheet and read some data.\n",
        "worksheet2 = gc.open_by_url(dataUrl).worksheet(\"test_\"+label+\"_data\")\n",
        "\n",
        "# get_all_values gives a list of rows.\n",
        "rows2 = worksheet2.get_all_values()\n",
        "#print(rows)\n",
        "\n",
        "# Convert to a DataFrame and render.\n",
        "import pandas as pf\n",
        "test_examples = pf.DataFrame.from_records(rows2)\n",
        "test_examples.apply(pf.to_numeric)\n",
        "#test_examples.columns = test_examples.iloc[0]\n",
        "test_examples.columns = [\"x\", \"t\", \"y\", \"s\"]\n",
        "\n",
        "test_examples[\"x\"] = test_examples.x.astype(float)\n",
        "test_examples[\"t\"] = test_examples.x.astype(float)\n",
        "test_examples[\"y\"] = test_examples.y.astype(float)\n",
        "test_examples[\"s\"] = test_examples.s.astype(float)\n",
        "\n",
        "\n",
        "test_examples.describe()\n",
        "\n",
        "test_examples.info()\n"
      ],
      "execution_count": 0,
      "outputs": [
        {
          "output_type": "stream",
          "text": [
            "<class 'pandas.core.frame.DataFrame'>\n",
            "RangeIndex: 118 entries, 0 to 117\n",
            "Data columns (total 4 columns):\n",
            "x    118 non-null float64\n",
            "t    118 non-null float64\n",
            "y    118 non-null float64\n",
            "s    118 non-null float64\n",
            "dtypes: float64(4)\n",
            "memory usage: 3.8 KB\n"
          ],
          "name": "stdout"
        }
      ]
    },
    {
      "metadata": {
        "id": "JRF354W4AK11",
        "colab_type": "text"
      },
      "cell_type": "markdown",
      "source": [
        "Load Predict data"
      ]
    },
    {
      "metadata": {
        "id": "nm_-SqoBAJAl",
        "colab_type": "code",
        "outputId": "7e501661-3f64-45e7-fef4-15c267485b32",
        "colab": {
          "base_uri": "https://localhost:8080/",
          "height": 493
        }
      },
      "cell_type": "code",
      "source": [
        "\n",
        "startX=5\n",
        "stepX=5\n",
        "maxX=100\n",
        "stepXNum = (maxX-startX)/stepX+1;\n",
        "\n",
        "startT=1\n",
        "stepT=4\n",
        "maxT=5\n",
        "stepTNum = (maxT-startT)/stepT+1;\n",
        "\n",
        "startY=5\n",
        "stepY=5\n",
        "maxY=100\n",
        "stepYNum = (maxY-startY)/stepY+1;\n",
        "\n",
        "\n",
        "# Open our new sheet and read some data.\n",
        "worksheet3 = gc.open_by_url(dataUrl).worksheet(\"predict_\"+label+\"_data\")\n",
        "\n",
        "index=0\n",
        "x=0\n",
        "print stepXNum*stepTNum*stepYNum*4\n",
        "\n",
        "cell_list = worksheet3.range('A1:D'+str(stepXNum*stepTNum*stepYNum*4))\n",
        "                             \n",
        "while x < stepXNum:\n",
        "  #print \"x=\"+str(x)\n",
        "  t=0\n",
        "  while t < stepTNum:\n",
        "    #print \"t=\"+str(t)\n",
        "    y=0\n",
        "    while y < stepYNum:              \n",
        "      #print \"y=\"+str(y)\n",
        "      cell_list[index].value = startX+stepX*(x)\n",
        "      cell_list[index+1].value = startT+stepT*(t)\n",
        "      cell_list[index+2].value = startY+stepY*(y)\n",
        "      cell_list[index+3].value = 0\n",
        "      index += 4\n",
        "      #print \"index=\"+str(index)\n",
        "      y += 1\n",
        "    t += 1\n",
        "  x += 1\n",
        "\n",
        "#update in batch\n",
        "worksheet3.update_cells(cell_list);\n",
        "\n",
        "# get_all_values gives a list of rows.\n",
        "rows3 = worksheet3.get_all_values()\n",
        "\n",
        "\n",
        "\n",
        "# Convert to a DataFrame and render.\n",
        "import pandas as pf\n",
        "prediction_examples = pf.DataFrame.from_records(rows3)\n",
        "prediction_examples.apply(pf.to_numeric)\n",
        "prediction_examples.columns = [\"x\", \"t\", \"y\", \"s\"]\n",
        "\n",
        "prediction_examples[\"x\"] = prediction_examples.x.astype(float)\n",
        "prediction_examples[\"t\"] = prediction_examples.y.astype(float)\n",
        "prediction_examples[\"y\"] = prediction_examples.y.astype(float)\n",
        "prediction_examples[\"s\"] = prediction_examples.y.astype(float)\n",
        "\n",
        "\n",
        "prediction_examples.describe()\n",
        "\n",
        "prediction_examples.info()\n",
        "\n",
        "print prediction_examples\n",
        "\n",
        "\n",
        "def predict_input_fn():\n",
        "  return input_fn(prediction_examples)"
      ],
      "execution_count": 0,
      "outputs": [
        {
          "output_type": "stream",
          "text": [
            "3200\n",
            "<class 'pandas.core.frame.DataFrame'>\n",
            "RangeIndex: 800 entries, 0 to 799\n",
            "Data columns (total 4 columns):\n",
            "x    800 non-null float64\n",
            "t    800 non-null float64\n",
            "y    800 non-null float64\n",
            "s    800 non-null float64\n",
            "dtypes: float64(4)\n",
            "memory usage: 25.1 KB\n",
            "         x      t      y      s\n",
            "0     5.00   5.00   5.00   5.00\n",
            "1     5.00  10.00  10.00  10.00\n",
            "2     5.00  15.00  15.00  15.00\n",
            "3     5.00  20.00  20.00  20.00\n",
            "4     5.00  25.00  25.00  25.00\n",
            "5     5.00  30.00  30.00  30.00\n",
            "6     5.00  35.00  35.00  35.00\n",
            "..     ...    ...    ...    ...\n",
            "793 100.00  70.00  70.00  70.00\n",
            "794 100.00  75.00  75.00  75.00\n",
            "795 100.00  80.00  80.00  80.00\n",
            "796 100.00  85.00  85.00  85.00\n",
            "797 100.00  90.00  90.00  90.00\n",
            "798 100.00  95.00  95.00  95.00\n",
            "799 100.00 100.00 100.00 100.00\n",
            "\n",
            "[800 rows x 4 columns]\n"
          ],
          "name": "stdout"
        }
      ]
    },
    {
      "metadata": {
        "id": "7WscCjgN-HSY",
        "colab_type": "code",
        "colab": {}
      },
      "cell_type": "code",
      "source": [
        ""
      ],
      "execution_count": 0,
      "outputs": []
    },
    {
      "metadata": {
        "colab_type": "text",
        "id": "K83U9tm72yF7"
      },
      "cell_type": "markdown",
      "source": [
        "##Prepare Features\n",
        "\n",
        "As our learning models get more sophisticated we will want to do some computation on the features and even generate new features from the existing features. You will change this later in the lab. For now this method will just make a copy of the portion of the dataframe we plan to use, and re-scale the median-house value (to make it a bit easier to work with)."
      ]
    },
    {
      "metadata": {
        "colab_type": "code",
        "id": "JETiyZLS2gtY",
        "colab": {}
      },
      "cell_type": "code",
      "source": [
        "def prepare_features(df):\n",
        "  \"\"\"Prepares the features for provided dataset.\n",
        "\n",
        "  Args:\n",
        "    dataframe: A Pandas DataFrame expected to contain data from the\n",
        "      desired data set.\n",
        "  Returns:\n",
        "    A new dataFrame that contains the features to be used for the model.\n",
        "  \"\"\"\n",
        "  processed_features = df.copy()\n",
        "  \n",
        "  # Modifying median_house_value to be in scale of $1000.  So a value of 14.0\n",
        "  # will correspond to $14,000.  This will make it a bit easier to work with.\n",
        "  # processed_features[\"median_house_value\"] /= 1000.0\n",
        "  \n",
        "  return processed_features"
      ],
      "execution_count": 0,
      "outputs": []
    },
    {
      "metadata": {
        "colab_type": "text",
        "id": "O4tSQbQmGo7m"
      },
      "cell_type": "markdown",
      "source": [
        "###Divide the provided data for training our model into a training and validation set\n",
        "\n",
        "As in the last lab we use the first 14000 examples (after randomization) for the ***training set*** and the remaining 3000 examples for the ***validation set***."
      ]
    },
    {
      "metadata": {
        "colab_type": "code",
        "id": "pr9J6wVUGoQX",
        "outputId": "c673056d-f1ba-46bb-a29b-893ad86096d8",
        "colab": {
          "base_uri": "https://localhost:8080/",
          "height": 543
        }
      },
      "cell_type": "code",
      "source": [
        "import pandas as pf\n",
        "\n",
        "training_examples = prepare_features(df.head(head))\n",
        "validation_examples = prepare_features(df.tail(tail))\n",
        "training_examples.describe()\n",
        "\n",
        "training_examples.apply(pf.to_numeric)\n",
        "validation_examples.apply(pf.to_numeric)\n"
      ],
      "execution_count": 0,
      "outputs": [
        {
          "output_type": "execute_result",
          "data": {
            "text/html": [
              "<div>\n",
              "<style scoped>\n",
              "    .dataframe tbody tr th:only-of-type {\n",
              "        vertical-align: middle;\n",
              "    }\n",
              "\n",
              "    .dataframe tbody tr th {\n",
              "        vertical-align: top;\n",
              "    }\n",
              "\n",
              "    .dataframe thead th {\n",
              "        text-align: right;\n",
              "    }\n",
              "</style>\n",
              "<table border=\"1\" class=\"dataframe\">\n",
              "  <thead>\n",
              "    <tr style=\"text-align: right;\">\n",
              "      <th></th>\n",
              "      <th>x</th>\n",
              "      <th>t</th>\n",
              "      <th>y</th>\n",
              "      <th>s</th>\n",
              "    </tr>\n",
              "  </thead>\n",
              "  <tbody>\n",
              "    <tr>\n",
              "      <th>34</th>\n",
              "      <td>9.00</td>\n",
              "      <td>0.00</td>\n",
              "      <td>0.00</td>\n",
              "      <td>0.61</td>\n",
              "    </tr>\n",
              "    <tr>\n",
              "      <th>30</th>\n",
              "      <td>200.00</td>\n",
              "      <td>0.00</td>\n",
              "      <td>0.00</td>\n",
              "      <td>0.00</td>\n",
              "    </tr>\n",
              "    <tr>\n",
              "      <th>56</th>\n",
              "      <td>32.00</td>\n",
              "      <td>0.00</td>\n",
              "      <td>0.00</td>\n",
              "      <td>1.44</td>\n",
              "    </tr>\n",
              "    <tr>\n",
              "      <th>50</th>\n",
              "      <td>3.00</td>\n",
              "      <td>0.00</td>\n",
              "      <td>0.00</td>\n",
              "      <td>1.32</td>\n",
              "    </tr>\n",
              "    <tr>\n",
              "      <th>24</th>\n",
              "      <td>10.00</td>\n",
              "      <td>0.00</td>\n",
              "      <td>0.00</td>\n",
              "      <td>0.00</td>\n",
              "    </tr>\n",
              "    <tr>\n",
              "      <th>9</th>\n",
              "      <td>2.00</td>\n",
              "      <td>0.00</td>\n",
              "      <td>0.00</td>\n",
              "      <td>0.00</td>\n",
              "    </tr>\n",
              "    <tr>\n",
              "      <th>68</th>\n",
              "      <td>21.00</td>\n",
              "      <td>0.00</td>\n",
              "      <td>0.00</td>\n",
              "      <td>1.79</td>\n",
              "    </tr>\n",
              "    <tr>\n",
              "      <th>...</th>\n",
              "      <td>...</td>\n",
              "      <td>...</td>\n",
              "      <td>...</td>\n",
              "      <td>...</td>\n",
              "    </tr>\n",
              "    <tr>\n",
              "      <th>23</th>\n",
              "      <td>10.00</td>\n",
              "      <td>0.00</td>\n",
              "      <td>0.00</td>\n",
              "      <td>0.00</td>\n",
              "    </tr>\n",
              "    <tr>\n",
              "      <th>48</th>\n",
              "      <td>29.00</td>\n",
              "      <td>0.00</td>\n",
              "      <td>0.00</td>\n",
              "      <td>1.11</td>\n",
              "    </tr>\n",
              "    <tr>\n",
              "      <th>33</th>\n",
              "      <td>3.00</td>\n",
              "      <td>0.00</td>\n",
              "      <td>0.00</td>\n",
              "      <td>0.61</td>\n",
              "    </tr>\n",
              "    <tr>\n",
              "      <th>85</th>\n",
              "      <td>7.00</td>\n",
              "      <td>0.00</td>\n",
              "      <td>0.00</td>\n",
              "      <td>2.22</td>\n",
              "    </tr>\n",
              "    <tr>\n",
              "      <th>88</th>\n",
              "      <td>4.00</td>\n",
              "      <td>0.00</td>\n",
              "      <td>0.00</td>\n",
              "      <td>2.26</td>\n",
              "    </tr>\n",
              "    <tr>\n",
              "      <th>73</th>\n",
              "      <td>23.00</td>\n",
              "      <td>0.00</td>\n",
              "      <td>0.00</td>\n",
              "      <td>1.92</td>\n",
              "    </tr>\n",
              "    <tr>\n",
              "      <th>64</th>\n",
              "      <td>8.00</td>\n",
              "      <td>0.00</td>\n",
              "      <td>0.00</td>\n",
              "      <td>1.72</td>\n",
              "    </tr>\n",
              "  </tbody>\n",
              "</table>\n",
              "<p>16 rows × 4 columns</p>\n",
              "</div>"
            ],
            "text/plain": [
              "        x    t    y    s\n",
              "34   9.00 0.00 0.00 0.61\n",
              "30 200.00 0.00 0.00 0.00\n",
              "56  32.00 0.00 0.00 1.44\n",
              "50   3.00 0.00 0.00 1.32\n",
              "24  10.00 0.00 0.00 0.00\n",
              "9    2.00 0.00 0.00 0.00\n",
              "68  21.00 0.00 0.00 1.79\n",
              "..    ...  ...  ...  ...\n",
              "23  10.00 0.00 0.00 0.00\n",
              "48  29.00 0.00 0.00 1.11\n",
              "33   3.00 0.00 0.00 0.61\n",
              "85   7.00 0.00 0.00 2.22\n",
              "88   4.00 0.00 0.00 2.26\n",
              "73  23.00 0.00 0.00 1.92\n",
              "64   8.00 0.00 0.00 1.72\n",
              "\n",
              "[16 rows x 4 columns]"
            ]
          },
          "metadata": {
            "tags": []
          },
          "execution_count": 84
        }
      ]
    },
    {
      "metadata": {
        "colab_type": "text",
        "id": "G2F3zbi2CjM7"
      },
      "cell_type": "markdown",
      "source": [
        "### Compute Loss\n",
        "\n",
        "Here is a simple method to compute the loss on the given input function and targets."
      ]
    },
    {
      "metadata": {
        "colab_type": "code",
        "id": "sPHDJH0JCiWP",
        "colab": {}
      },
      "cell_type": "code",
      "source": [
        "def compute_loss(model, input_fn, targets):\n",
        "  \"\"\" Computes the loss (RMSE) for linear regression.\n",
        "  \n",
        "  Args:\n",
        "    model: the trained model to use for making the predictions.\n",
        "    input_fn: the input_fn to use to make the predictions.\n",
        "    targets: a list of the target values being predicted that must be the\n",
        "             same length as predictions.\n",
        "    \n",
        "  Returns:\n",
        "    The RMSE for the provided predictions and targets.\n",
        "  \"\"\"      \n",
        "  \n",
        "  predictions = list(model.predict(input_fn=input_fn))\n",
        "  return math.sqrt(metrics.mean_squared_error(predictions, targets))"
      ],
      "execution_count": 0,
      "outputs": []
    },
    {
      "metadata": {
        "colab_type": "text",
        "id": "2BokkZ4g2gs4"
      },
      "cell_type": "markdown",
      "source": [
        "### Setting Up the Feature Columns and Input Function for TensorFlow\n",
        "As in the last lab we define `input_fn` to create a real-valued feature for each provided\n",
        "numerical column, and then define `train_input_fn` to use the training data, `eval_input_fn` to use the validation data, and `test_input_fn` to use the test data."
      ]
    },
    {
      "metadata": {
        "colab_type": "code",
        "id": "OwnMzAkn2gs6",
        "colab": {}
      },
      "cell_type": "code",
      "source": [
        "CATEGORICAL_COLUMNS = []\n",
        "NUMERICAL_COLUMNS = [\"1.00\",\"2.00\"]\n",
        "def input_fn(dataframe):\n",
        "  \"\"\"Constructs a dictionary for the feature columns.\n",
        "\n",
        "  Args:\n",
        "    dataframe: The Pandas DataFrame to use for the input.\n",
        "  Returns:\n",
        "    The feature columns and the associated labels for the provided input.\n",
        "  \"\"\"\n",
        "  # Creates a dictionary mapping each numeric feature column name (k) to\n",
        "  # the values of that column stored in a constant Tensor.\n",
        "  numerical_cols = {k: tf.constant(dataframe[k].values)\n",
        "                     for k in NUMERICAL_COLUMNS}\n",
        "  # Creates a dictionary mapping each categorical feature column name (k)\n",
        "  # to the values of that column stored in a tf.SparseTensor.\n",
        "  categorical_cols = {k: tf.SparseTensor(\n",
        "      indices=[[i, 0] for i in range(dataframe[k].size)],\n",
        "      values=dataframe[k].values,\n",
        "      dense_shape=[dataframe[k].size, 1])\n",
        "                      for k in CATEGORICAL_COLUMNS}\n",
        "  # Merges the two dictionaries into one.\n",
        "  feature_cols = dict(numerical_cols.items() + categorical_cols.items())\n",
        "  # Converts the label column into a constant Tensor.\n",
        "  label = tf.constant(dataframe[LABEL].values)\n",
        "  # Returns the feature columns and the label.\n",
        "  return feature_cols, label\n",
        "\n",
        "def train_input_fn():\n",
        "  return input_fn(training_examples)\n",
        "\n",
        "def eval_input_fn():\n",
        "  return input_fn(validation_examples)\n",
        "\n",
        "def test_input_fn():\n",
        "  return input_fn(test_examples)\n"
      ],
      "execution_count": 0,
      "outputs": []
    },
    {
      "metadata": {
        "colab_type": "text",
        "id": "v5XS0Z_-GevD"
      },
      "cell_type": "markdown",
      "source": [
        "### Functions to help visualize our results\n",
        "\n",
        "We will use our functions from the last lab to generate a calibration plot and learning curve (with both training and validation losses)."
      ]
    },
    {
      "metadata": {
        "colab_type": "code",
        "id": "YIXTkIa6GB0s",
        "colab": {}
      },
      "cell_type": "code",
      "source": [
        "def make_calibration_plot(predictions, targets):\n",
        "  \"\"\" Creates a calibration plot.\n",
        "  \n",
        "  Args:\n",
        "    predictions: a list of values predicted by the model being visualized\n",
        "    targets: a list of the target values being predicted that must be the\n",
        "             same length as predictions.\n",
        "  \"\"\"  \n",
        "  calibration_data = pd.DataFrame()\n",
        "  calibration_data[\"predictions\"] = pd.Series(predictions)\n",
        "  calibration_data[\"targets\"] = pd.Series(targets)\n",
        "  calibration_data.describe()\n",
        "  min_val = calibration_data[\"predictions\"].min()\n",
        "  max_val = calibration_data[\"predictions\"].max()\n",
        "  plt.ylabel(\"target\")\n",
        "  plt.xlabel(\"prediction\")\n",
        "  plt.scatter(predictions, targets, color='black')\n",
        "  plt.plot([min_val, max_val], [min_val, max_val])\n",
        "  \n",
        "def plot_learning_curve(training_losses, validation_losses):\n",
        "  \"\"\" Plot the learning curve.\n",
        "  \n",
        "  Args:\n",
        "    training_loses: a list of training losses to plot.\n",
        "    validation_losses: a list of validation losses to plot.\n",
        "  \"\"\"        \n",
        "  plt.ylabel('Loss')\n",
        "  plt.xlabel('Training Steps')\n",
        "  plt.plot(training_losses, label=\"training\")\n",
        "  plt.plot(validation_losses, label=\"validation\")\n",
        "  plt.legend(loc=1)"
      ],
      "execution_count": 0,
      "outputs": []
    },
    {
      "metadata": {
        "colab_type": "text",
        "id": "MD--C-wVGEEg"
      },
      "cell_type": "markdown",
      "source": [
        "### Defining the features, linear regression model, and function to train the model\n",
        "\n",
        "These functions are just like the last lab except now we include all of the available numerical features."
      ]
    },
    {
      "metadata": {
        "colab_type": "code",
        "id": "uq6e_T_1F94U",
        "colab": {}
      },
      "cell_type": "code",
      "source": [
        "NUMERICAL_COLUMNS = [\"x\",\"t\", \"y\"]\n",
        "\n",
        "#, \"v12\",\t\"s1\"\n",
        "LABEL = \"s\"\n",
        "\n",
        "\n",
        "def construct_feature_columns():\n",
        "  \"\"\"Construct TensorFlow Feature Columns for features.\n",
        "  \n",
        "  Returns:\n",
        "    A set of feature columns.\n",
        "  \"\"\"\n",
        "  \n",
        "  feature_set = set([tf.contrib.layers.real_valued_column(feature) \n",
        "                     for feature in NUMERICAL_FEATURES])\n",
        "  return feature_set\n",
        "\n",
        "def define_linear_regression_model(learning_rate):\n",
        "  \"\"\" Defines a linear regression model of one feature to predict the target.\n",
        "  \n",
        "  Args:\n",
        "    learning_rate: A `float`, the learning rate.\n",
        "    \n",
        "  Returns:\n",
        "    A linear regressor created with the given parameters.\n",
        "  \"\"\"\n",
        "  linear_regressor = tf.contrib.learn.LinearRegressor(\n",
        "    feature_columns=construct_feature_columns(),\n",
        "    optimizer=tf.train.GradientDescentOptimizer(learning_rate=learning_rate),\n",
        "    gradient_clip_norm=5.0\n",
        "  )  \n",
        "  return linear_regressor\n",
        "\n",
        "def train_model(linear_regressor, steps):\n",
        "  \"\"\"Trains a linear regression model.\n",
        "  \n",
        "  Args:\n",
        "    linear_regressor: The regressor to train.\n",
        "    steps: A non-zero `int`, the total number of training steps.\n",
        "    \n",
        "  Returns:\n",
        "    The trained regressor.\n",
        "  \"\"\"\n",
        "  # In order to see how the model evolves as we train it, we divide the\n",
        "  # steps into periods and show the model after each period.\n",
        "  \n",
        "\n",
        "  periods = 10\n",
        "  steps_per_period = steps / periods\n",
        "  \n",
        "  # Train the model, but do so inside a loop so that we can periodically assess\n",
        "  # loss metrics.  We store the training and validation losses so we can\n",
        "  # generate a learning curve.\n",
        "  training_losses = []\n",
        "  validation_losses = []\n",
        "\n",
        "  for period in range (0, periods):\n",
        "    # Call fit to train the regressor for steps_per_period steps.\n",
        "    linear_regressor.fit(input_fn=train_input_fn, steps=steps_per_period)\n",
        "    # Compute the loss between the predictions and the correct labels, append\n",
        "    # the training and validation loss to the list of losses used to generate\n",
        "    # the learning curve after training is complete and print the current\n",
        "    # training loss.\n",
        "    \n",
        "    training_loss = compute_loss(linear_regressor, train_input_fn,\n",
        "                                 training_examples[LABEL])\n",
        "    validation_loss = compute_loss(linear_regressor, eval_input_fn,\n",
        "                                   validation_examples[LABEL])\n",
        "    training_losses.append(training_loss) \n",
        "    validation_losses.append(validation_loss) \n",
        "    print \"  Training loss after period %02d : %0.3f\" % (period, training_loss)\n",
        "      \n",
        "  # Now that training is done print the final training and validation losses.    \n",
        "  print \"Final Training Loss (RMSE): %0.3f\" % training_loss\n",
        "  print \"Final Validation Loss (RMSE): %0.3f\" % validation_loss \n",
        "  \n",
        "  # Generate a figure with the learning curve on the left and a\n",
        "  # calibration plot on the right.\n",
        "  plt.figure(figsize=(10, 5))\n",
        "  plt.subplot(1, 2, 1)\n",
        "  plt.title(\"Learning Curve (RMSE vs time)\")\n",
        "  plot_learning_curve(training_losses, validation_losses)\n",
        "  \n",
        "  plt.subplot(1, 2, 2)\n",
        "  plt.tight_layout(pad=1.1, w_pad=3.0, h_pad=3.0) \n",
        "  plt.title(\"Calibration Plot on Validation Data\")\n",
        "  validation_predictions = np.array(list(linear_regressor.predict(\n",
        "      input_fn=eval_input_fn)))\n",
        "  make_calibration_plot(validation_predictions, validation_examples[LABEL])\n",
        "   \n",
        "  return linear_regressor"
      ],
      "execution_count": 0,
      "outputs": []
    },
    {
      "metadata": {
        "colab_type": "text",
        "id": "91yJ6WebbC57"
      },
      "cell_type": "markdown",
      "source": [
        "### Training a model with one feature.\n",
        "\n",
        "In the last lab, you trained a model to predict the `median_house_value` from a single feature. Before we explore what can be done by introducing additional features, let's just train a good model to use a single feature.  Feel free to change the below, but as is it should give a pretty good result (given the constraint of using a single feature)."
      ]
    },
    {
      "metadata": {
        "colab_type": "code",
        "id": "_QscSNCVctHb",
        "outputId": "202fdcc6-b5b0-4f22-c40a-1c2553d17c33",
        "colab": {
          "base_uri": "https://localhost:8080/",
          "height": 569
        }
      },
      "cell_type": "code",
      "source": [
        "NUMERICAL_FEATURES = [\"x\", \"t\", \"y\"]\n",
        "LABEL = \"s\"\n",
        "\n",
        "LEARNING_RATE = 0.005\n",
        "STEPS = 400\n",
        "\n",
        "linear_regressor = define_linear_regression_model(learning_rate = LEARNING_RATE)\n",
        "linear_regressor = train_model(linear_regressor, steps=STEPS)\n"
      ],
      "execution_count": 94,
      "outputs": [
        {
          "output_type": "stream",
          "text": [
            "  Training loss after period 00 : 1.216\n",
            "  Training loss after period 01 : 1.177\n",
            "  Training loss after period 02 : 1.143\n",
            "  Training loss after period 03 : 1.113\n",
            "  Training loss after period 04 : 1.088\n",
            "  Training loss after period 05 : 1.066\n",
            "  Training loss after period 06 : 1.047\n",
            "  Training loss after period 07 : 1.031\n",
            "  Training loss after period 08 : 1.017\n",
            "  Training loss after period 09 : 1.005\n",
            "Final Training Loss (RMSE): 1.005\n",
            "Final Validation Loss (RMSE): 3.496\n"
          ],
          "name": "stdout"
        },
        {
          "output_type": "display_data",
          "data": {
            "image/png": "[encoded data removed]",
            "text/plain": [
              "<matplotlib.figure.Figure at 0x7fcf801644d0>"
            ]
          },
          "metadata": {
            "tags": []
          }
        }
      ]
    },
    {
      "metadata": {
        "colab_type": "text",
        "id": "ftNnIpjRG3cb"
      },
      "cell_type": "markdown",
      "source": [
        "Once you've adjusted the hyperparameters (if you'd like to see if you can reduce the validation loss), let's check the loss on the test data."
      ]
    },
    {
      "metadata": {
        "colab_type": "code",
        "id": "FMSp8-FqG4ao",
        "outputId": "a9bc9a5e-769e-4cd7-ba43-6065418e1ec4",
        "colab": {
          "base_uri": "https://localhost:8080/",
          "height": 34
        }
      },
      "cell_type": "code",
      "source": [
        "print \"loss on test data is\", compute_loss(\n",
        "    linear_regressor, test_input_fn, test_examples[LABEL])"
      ],
      "execution_count": 0,
      "outputs": [
        {
          "output_type": "stream",
          "text": [
            "loss on test data is 1.78190412523\n"
          ],
          "name": "stdout"
        }
      ]
    },
    {
      "metadata": {
        "id": "qzIZCJM1lTik",
        "colab_type": "text"
      },
      "cell_type": "markdown",
      "source": [
        "Predict and write the prediction to googe sheet"
      ]
    },
    {
      "metadata": {
        "id": "gtly3qQnP8kQ",
        "colab_type": "code",
        "outputId": "827999d8-5c5b-4dfc-b363-15f67779c7f4",
        "colab": {
          "base_uri": "https://localhost:8080/",
          "height": 2329
        }
      },
      "cell_type": "code",
      "source": [
        "print \"Prdecit.....\"\n",
        "print \"prediction examples...\"\n",
        "print prediction_examples\n",
        "\n",
        "\n",
        "predictions=np.array(list(linear_regressor.predict(\n",
        "      input_fn=predict_input_fn)))\n",
        "print \"Result.....\"\n",
        "\n",
        "cell_list = worksheet3.range('D1:D'+str(len(predictions)))\n",
        "\n",
        "i = 0\n",
        "while i < len(predictions):\n",
        "    cell_list[i].value = str(predictions[i]);\n",
        "    i += 1\n",
        "\n",
        "\n",
        "    \n",
        "# Update in batch\n",
        "worksheet3.update_cells(cell_list);\n",
        "\n",
        "\n",
        "#print cell_list  \n",
        "print predictions"
      ],
      "execution_count": 0,
      "outputs": [
        {
          "output_type": "stream",
          "text": [
            "Prdecit.....\n",
            "prediction examples...\n",
            "         x      t      y      s\n",
            "0     5.00   5.00   5.00   5.00\n",
            "1     5.00  10.00  10.00  10.00\n",
            "2     5.00  15.00  15.00  15.00\n",
            "3     5.00  20.00  20.00  20.00\n",
            "4     5.00  25.00  25.00  25.00\n",
            "5     5.00  30.00  30.00  30.00\n",
            "6     5.00  35.00  35.00  35.00\n",
            "..     ...    ...    ...    ...\n",
            "793 100.00  70.00  70.00  70.00\n",
            "794 100.00  75.00  75.00  75.00\n",
            "795 100.00  80.00  80.00  80.00\n",
            "796 100.00  85.00  85.00  85.00\n",
            "797 100.00  90.00  90.00  90.00\n",
            "798 100.00  95.00  95.00  95.00\n",
            "799 100.00 100.00 100.00 100.00\n",
            "\n",
            "[800 rows x 4 columns]\n",
            "Result.....\n",
            "[1.4276726 1.4276726 1.4276726 1.4276726 1.4276726 1.4276726 1.4276726\n",
            " 1.4276726 1.4276726 1.4276726 1.4276726 1.4276726 1.4276726 1.4276726\n",
            " 1.4276726 1.4276726 1.4276726 1.4276726 1.4276726 1.4276726 1.4276726\n",
            " 1.4276726 1.4276726 1.4276726 1.4276726 1.4276726 1.4276726 1.4276726\n",
            " 1.4276726 1.4276726 1.4276726 1.4276726 1.4276726 1.4276726 1.4276726\n",
            " 1.4276726 1.4276726 1.4276726 1.4276726 1.4276726 1.6661232 1.6661232\n",
            " 1.6661232 1.6661232 1.6661232 1.6661232 1.6661232 1.6661232 1.6661232\n",
            " 1.6661232 1.6661232 1.6661232 1.6661232 1.6661232 1.6661232 1.6661232\n",
            " 1.6661232 1.6661232 1.6661232 1.6661232 1.6661232 1.6661232 1.6661232\n",
            " 1.6661232 1.6661232 1.6661232 1.6661232 1.6661232 1.6661232 1.6661232\n",
            " 1.6661232 1.6661232 1.6661232 1.6661232 1.6661232 1.6661232 1.6661232\n",
            " 1.6661232 1.6661232 1.6661232 1.9045736 1.9045736 1.9045736 1.9045736\n",
            " 1.9045736 1.9045736 1.9045736 1.9045736 1.9045736 1.9045736 1.9045736\n",
            " 1.9045736 1.9045736 1.9045736 1.9045736 1.9045736 1.9045736 1.9045736\n",
            " 1.9045736 1.9045736 1.9045736 1.9045736 1.9045736 1.9045736 1.9045736\n",
            " 1.9045736 1.9045736 1.9045736 1.9045736 1.9045736 1.9045736 1.9045736\n",
            " 1.9045736 1.9045736 1.9045736 1.9045736 1.9045736 1.9045736 1.9045736\n",
            " 1.9045736 2.143024  2.143024  2.143024  2.143024  2.143024  2.143024\n",
            " 2.143024  2.143024  2.143024  2.143024  2.143024  2.143024  2.143024\n",
            " 2.143024  2.143024  2.143024  2.143024  2.143024  2.143024  2.143024\n",
            " 2.143024  2.143024  2.143024  2.143024  2.143024  2.143024  2.143024\n",
            " 2.143024  2.143024  2.143024  2.143024  2.143024  2.143024  2.143024\n",
            " 2.143024  2.143024  2.143024  2.143024  2.143024  2.143024  2.3814745\n",
            " 2.3814745 2.3814745 2.3814745 2.3814745 2.3814745 2.3814745 2.3814745\n",
            " 2.3814745 2.3814745 2.3814745 2.3814745 2.3814745 2.3814745 2.3814745\n",
            " 2.3814745 2.3814745 2.3814745 2.3814745 2.3814745 2.3814745 2.3814745\n",
            " 2.3814745 2.3814745 2.3814745 2.3814745 2.3814745 2.3814745 2.3814745\n",
            " 2.3814745 2.3814745 2.3814745 2.3814745 2.3814745 2.3814745 2.3814745\n",
            " 2.3814745 2.3814745 2.3814745 2.3814745 2.619925  2.619925  2.619925\n",
            " 2.619925  2.619925  2.619925  2.619925  2.619925  2.619925  2.619925\n",
            " 2.619925  2.619925  2.619925  2.619925  2.619925  2.619925  2.619925\n",
            " 2.619925  2.619925  2.619925  2.619925  2.619925  2.619925  2.619925\n",
            " 2.619925  2.619925  2.619925  2.619925  2.619925  2.619925  2.619925\n",
            " 2.619925  2.619925  2.619925  2.619925  2.619925  2.619925  2.619925\n",
            " 2.619925  2.619925  2.8583753 2.8583753 2.8583753 2.8583753 2.8583753\n",
            " 2.8583753 2.8583753 2.8583753 2.8583753 2.8583753 2.8583753 2.8583753\n",
            " 2.8583753 2.8583753 2.8583753 2.8583753 2.8583753 2.8583753 2.8583753\n",
            " 2.8583753 2.8583753 2.8583753 2.8583753 2.8583753 2.8583753 2.8583753\n",
            " 2.8583753 2.8583753 2.8583753 2.8583753 2.8583753 2.8583753 2.8583753\n",
            " 2.8583753 2.8583753 2.8583753 2.8583753 2.8583753 2.8583753 2.8583753\n",
            " 3.0968258 3.0968258 3.0968258 3.0968258 3.0968258 3.0968258 3.0968258\n",
            " 3.0968258 3.0968258 3.0968258 3.0968258 3.0968258 3.0968258 3.0968258\n",
            " 3.0968258 3.0968258 3.0968258 3.0968258 3.0968258 3.0968258 3.0968258\n",
            " 3.0968258 3.0968258 3.0968258 3.0968258 3.0968258 3.0968258 3.0968258\n",
            " 3.0968258 3.0968258 3.0968258 3.0968258 3.0968258 3.0968258 3.0968258\n",
            " 3.0968258 3.0968258 3.0968258 3.0968258 3.0968258 3.3352761 3.3352761\n",
            " 3.3352761 3.3352761 3.3352761 3.3352761 3.3352761 3.3352761 3.3352761\n",
            " 3.3352761 3.3352761 3.3352761 3.3352761 3.3352761 3.3352761 3.3352761\n",
            " 3.3352761 3.3352761 3.3352761 3.3352761 3.3352761 3.3352761 3.3352761\n",
            " 3.3352761 3.3352761 3.3352761 3.3352761 3.3352761 3.3352761 3.3352761\n",
            " 3.3352761 3.3352761 3.3352761 3.3352761 3.3352761 3.3352761 3.3352761\n",
            " 3.3352761 3.3352761 3.3352761 3.5737267 3.5737267 3.5737267 3.5737267\n",
            " 3.5737267 3.5737267 3.5737267 3.5737267 3.5737267 3.5737267 3.5737267\n",
            " 3.5737267 3.5737267 3.5737267 3.5737267 3.5737267 3.5737267 3.5737267\n",
            " 3.5737267 3.5737267 3.5737267 3.5737267 3.5737267 3.5737267 3.5737267\n",
            " 3.5737267 3.5737267 3.5737267 3.5737267 3.5737267 3.5737267 3.5737267\n",
            " 3.5737267 3.5737267 3.5737267 3.5737267 3.5737267 3.5737267 3.5737267\n",
            " 3.5737267 3.8121772 3.8121772 3.8121772 3.8121772 3.8121772 3.8121772\n",
            " 3.8121772 3.8121772 3.8121772 3.8121772 3.8121772 3.8121772 3.8121772\n",
            " 3.8121772 3.8121772 3.8121772 3.8121772 3.8121772 3.8121772 3.8121772\n",
            " 3.8121772 3.8121772 3.8121772 3.8121772 3.8121772 3.8121772 3.8121772\n",
            " 3.8121772 3.8121772 3.8121772 3.8121772 3.8121772 3.8121772 3.8121772\n",
            " 3.8121772 3.8121772 3.8121772 3.8121772 3.8121772 3.8121772 4.0506277\n",
            " 4.0506277 4.0506277 4.0506277 4.0506277 4.0506277 4.0506277 4.0506277\n",
            " 4.0506277 4.0506277 4.0506277 4.0506277 4.0506277 4.0506277 4.0506277\n",
            " 4.0506277 4.0506277 4.0506277 4.0506277 4.0506277 4.0506277 4.0506277\n",
            " 4.0506277 4.0506277 4.0506277 4.0506277 4.0506277 4.0506277 4.0506277\n",
            " 4.0506277 4.0506277 4.0506277 4.0506277 4.0506277 4.0506277 4.0506277\n",
            " 4.0506277 4.0506277 4.0506277 4.0506277 4.289078  4.289078  4.289078\n",
            " 4.289078  4.289078  4.289078  4.289078  4.289078  4.289078  4.289078\n",
            " 4.289078  4.289078  4.289078  4.289078  4.289078  4.289078  4.289078\n",
            " 4.289078  4.289078  4.289078  4.289078  4.289078  4.289078  4.289078\n",
            " 4.289078  4.289078  4.289078  4.289078  4.289078  4.289078  4.289078\n",
            " 4.289078  4.289078  4.289078  4.289078  4.289078  4.289078  4.289078\n",
            " 4.289078  4.289078  4.5275283 4.5275283 4.5275283 4.5275283 4.5275283\n",
            " 4.5275283 4.5275283 4.5275283 4.5275283 4.5275283 4.5275283 4.5275283\n",
            " 4.5275283 4.5275283 4.5275283 4.5275283 4.5275283 4.5275283 4.5275283\n",
            " 4.5275283 4.5275283 4.5275283 4.5275283 4.5275283 4.5275283 4.5275283\n",
            " 4.5275283 4.5275283 4.5275283 4.5275283 4.5275283 4.5275283 4.5275283\n",
            " 4.5275283 4.5275283 4.5275283 4.5275283 4.5275283 4.5275283 4.5275283\n",
            " 4.765979  4.765979  4.765979  4.765979  4.765979  4.765979  4.765979\n",
            " 4.765979  4.765979  4.765979  4.765979  4.765979  4.765979  4.765979\n",
            " 4.765979  4.765979  4.765979  4.765979  4.765979  4.765979  4.765979\n",
            " 4.765979  4.765979  4.765979  4.765979  4.765979  4.765979  4.765979\n",
            " 4.765979  4.765979  4.765979  4.765979  4.765979  4.765979  4.765979\n",
            " 4.765979  4.765979  4.765979  4.765979  4.765979  5.0044293 5.0044293\n",
            " 5.0044293 5.0044293 5.0044293 5.0044293 5.0044293 5.0044293 5.0044293\n",
            " 5.0044293 5.0044293 5.0044293 5.0044293 5.0044293 5.0044293 5.0044293\n",
            " 5.0044293 5.0044293 5.0044293 5.0044293 5.0044293 5.0044293 5.0044293\n",
            " 5.0044293 5.0044293 5.0044293 5.0044293 5.0044293 5.0044293 5.0044293\n",
            " 5.0044293 5.0044293 5.0044293 5.0044293 5.0044293 5.0044293 5.0044293\n",
            " 5.0044293 5.0044293 5.0044293 5.24288   5.24288   5.24288   5.24288\n",
            " 5.24288   5.24288   5.24288   5.24288   5.24288   5.24288   5.24288\n",
            " 5.24288   5.24288   5.24288   5.24288   5.24288   5.24288   5.24288\n",
            " 5.24288   5.24288   5.24288   5.24288   5.24288   5.24288   5.24288\n",
            " 5.24288   5.24288   5.24288   5.24288   5.24288   5.24288   5.24288\n",
            " 5.24288   5.24288   5.24288   5.24288   5.24288   5.24288   5.24288\n",
            " 5.24288   5.4813304 5.4813304 5.4813304 5.4813304 5.4813304 5.4813304\n",
            " 5.4813304 5.4813304 5.4813304 5.4813304 5.4813304 5.4813304 5.4813304\n",
            " 5.4813304 5.4813304 5.4813304 5.4813304 5.4813304 5.4813304 5.4813304\n",
            " 5.4813304 5.4813304 5.4813304 5.4813304 5.4813304 5.4813304 5.4813304\n",
            " 5.4813304 5.4813304 5.4813304 5.4813304 5.4813304 5.4813304 5.4813304\n",
            " 5.4813304 5.4813304 5.4813304 5.4813304 5.4813304 5.4813304 5.719781\n",
            " 5.719781  5.719781  5.719781  5.719781  5.719781  5.719781  5.719781\n",
            " 5.719781  5.719781  5.719781  5.719781  5.719781  5.719781  5.719781\n",
            " 5.719781  5.719781  5.719781  5.719781  5.719781  5.719781  5.719781\n",
            " 5.719781  5.719781  5.719781  5.719781  5.719781  5.719781  5.719781\n",
            " 5.719781  5.719781  5.719781  5.719781  5.719781  5.719781  5.719781\n",
            " 5.719781  5.719781  5.719781  5.719781  5.9582314 5.9582314 5.9582314\n",
            " 5.9582314 5.9582314 5.9582314 5.9582314 5.9582314 5.9582314 5.9582314\n",
            " 5.9582314 5.9582314 5.9582314 5.9582314 5.9582314 5.9582314 5.9582314\n",
            " 5.9582314 5.9582314 5.9582314 5.9582314 5.9582314 5.9582314 5.9582314\n",
            " 5.9582314 5.9582314 5.9582314 5.9582314 5.9582314 5.9582314 5.9582314\n",
            " 5.9582314 5.9582314 5.9582314 5.9582314 5.9582314 5.9582314 5.9582314\n",
            " 5.9582314 5.9582314]\n"
          ],
          "name": "stdout"
        }
      ]
    },
    {
      "metadata": {
        "id": "j5_LAu35lNYC",
        "colab_type": "text"
      },
      "cell_type": "markdown",
      "source": [
        ""
      ]
    },
    {
      "metadata": {
        "colab_type": "text",
        "id": "OfzBmjBpigCi"
      },
      "cell_type": "markdown",
      "source": [
        "## Task 1: Introduce Synthetic Features (1 Point)\n",
        "Both the total_rooms and population features count totals for a given city block.\n",
        "But what if one city block were more densely populated than another? Then just using `total_rooms` and `population` directly might not be very useful.  Instead what we really want is the **quadratic feature** obtain by dividing `total_rooms` by the `population` to give the average number of rooms per person for that city block.\n",
        "\n",
        "We've got you started by creating a feature called rooms_per_person.  Create others, and use them along with whatever other features you think are useful to train a model."
      ]
    },
    {
      "metadata": {
        "colab_type": "code",
        "id": "9qP-NtBJO-BC",
        "outputId": "b17f9958-2f0c-4ad8-a2b8-bd3e6281c8ff",
        "colab": {
          "base_uri": "https://localhost:8080/",
          "height": 297
        }
      },
      "cell_type": "code",
      "source": [
        "def prepare_features(dataframe):\n",
        "  \"\"\"Prepares the features for provided dataset.\n",
        "\n",
        "  Args:\n",
        "    dataframe: A Pandas DataFrame expected to contain data from the\n",
        "      desired data set.\n",
        "  Returns:\n",
        "    A new DataFrame that contains the features to be used for the model.\n",
        "  \"\"\"\n",
        "  processed_features = dataframe.copy()\n",
        "  \n",
        "  # Modifying median_house_value to be in scale of $1000.  So a value of 14.0\n",
        "  # will correspond to $14,000.  This will make it a bit easier to work with.\n",
        "\n",
        "  ##processed_features[\"median_house_value\"] /= 1000.0\n",
        "  \n",
        "  # Add your synthetic features here. We've got you started by defining \n",
        "  # rooms_per_person\n",
        "  \n",
        "  processed_features[\"y/x\"] = (\n",
        "    dataframe[\"y\"] / dataframe[\"x\"])\n",
        "\n",
        "  return processed_features\n",
        "\n",
        "# Generate the training, validation and test examples\n",
        "training_examples = prepare_features(df.head(50))\n",
        "validation_examples = prepare_features(df.tail(50))\n",
        "test_examples = prepare_features(test_examples)\n",
        "\n",
        "training_examples.describe()"
      ],
      "execution_count": 0,
      "outputs": [
        {
          "output_type": "execute_result",
          "data": {
            "text/html": [
              "<div>\n",
              "<style scoped>\n",
              "    .dataframe tbody tr th:only-of-type {\n",
              "        vertical-align: middle;\n",
              "    }\n",
              "\n",
              "    .dataframe tbody tr th {\n",
              "        vertical-align: top;\n",
              "    }\n",
              "\n",
              "    .dataframe thead th {\n",
              "        text-align: right;\n",
              "    }\n",
              "</style>\n",
              "<table border=\"1\" class=\"dataframe\">\n",
              "  <thead>\n",
              "    <tr style=\"text-align: right;\">\n",
              "      <th></th>\n",
              "      <th>x</th>\n",
              "      <th>y</th>\n",
              "      <th>s</th>\n",
              "      <th>y/x</th>\n",
              "    </tr>\n",
              "  </thead>\n",
              "  <tbody>\n",
              "    <tr>\n",
              "      <th>count</th>\n",
              "      <td>50.00</td>\n",
              "      <td>50.00</td>\n",
              "      <td>50.00</td>\n",
              "      <td>50.00</td>\n",
              "    </tr>\n",
              "    <tr>\n",
              "      <th>mean</th>\n",
              "      <td>125.14</td>\n",
              "      <td>0.00</td>\n",
              "      <td>125.14</td>\n",
              "      <td>0.00</td>\n",
              "    </tr>\n",
              "    <tr>\n",
              "      <th>std</th>\n",
              "      <td>73.71</td>\n",
              "      <td>0.00</td>\n",
              "      <td>73.71</td>\n",
              "      <td>0.00</td>\n",
              "    </tr>\n",
              "    <tr>\n",
              "      <th>min</th>\n",
              "      <td>5.00</td>\n",
              "      <td>0.00</td>\n",
              "      <td>5.00</td>\n",
              "      <td>0.00</td>\n",
              "    </tr>\n",
              "    <tr>\n",
              "      <th>25%</th>\n",
              "      <td>62.25</td>\n",
              "      <td>0.00</td>\n",
              "      <td>62.25</td>\n",
              "      <td>0.00</td>\n",
              "    </tr>\n",
              "    <tr>\n",
              "      <th>50%</th>\n",
              "      <td>123.00</td>\n",
              "      <td>0.00</td>\n",
              "      <td>123.00</td>\n",
              "      <td>0.00</td>\n",
              "    </tr>\n",
              "    <tr>\n",
              "      <th>75%</th>\n",
              "      <td>181.75</td>\n",
              "      <td>0.00</td>\n",
              "      <td>181.75</td>\n",
              "      <td>0.00</td>\n",
              "    </tr>\n",
              "    <tr>\n",
              "      <th>max</th>\n",
              "      <td>267.00</td>\n",
              "      <td>0.00</td>\n",
              "      <td>267.00</td>\n",
              "      <td>0.00</td>\n",
              "    </tr>\n",
              "  </tbody>\n",
              "</table>\n",
              "</div>"
            ],
            "text/plain": [
              "           x     y      s   y/x\n",
              "count  50.00 50.00  50.00 50.00\n",
              "mean  125.14  0.00 125.14  0.00\n",
              "std    73.71  0.00  73.71  0.00\n",
              "min     5.00  0.00   5.00  0.00\n",
              "25%    62.25  0.00  62.25  0.00\n",
              "50%   123.00  0.00 123.00  0.00\n",
              "75%   181.75  0.00 181.75  0.00\n",
              "max   267.00  0.00 267.00  0.00"
            ]
          },
          "metadata": {
            "tags": []
          },
          "execution_count": 17
        }
      ]
    },
    {
      "metadata": {
        "id": "i8mzBJ6D0CL8",
        "colab_type": "code",
        "colab": {}
      },
      "cell_type": "code",
      "source": [
        ""
      ],
      "execution_count": 0,
      "outputs": []
    },
    {
      "metadata": {
        "colab_type": "text",
        "id": "FpgR7431USCM"
      },
      "cell_type": "markdown",
      "source": [
        "Since we added new features, we need to add them to `NUMERICAL_COLUMNS` so that they are included in the dictionary created by `input_fn`."
      ]
    },
    {
      "metadata": {
        "colab_type": "code",
        "id": "vvDwrKQeURtz",
        "colab": {}
      },
      "cell_type": "code",
      "source": [
        "# Add any other synthetic features you create to this list.\n",
        "NUMERICAL_COLUMNS = [\"latitude\", \"longitude\", \"housing_median_age\", \n",
        "                     \"total_rooms\", \"total_bedrooms\", \"population\",\n",
        "                     \"households\", \"median_income\", \"rooms_per_person\"]"
      ],
      "execution_count": 0,
      "outputs": []
    },
    {
      "metadata": {
        "colab_type": "text",
        "id": "9WDsNKEgP-8e"
      },
      "cell_type": "markdown",
      "source": [
        "##Task 2 -- Add a Clip Feature Transformation (1 point)\n",
        "\n",
        "Recall that there are two characteristics we'd like of numerical features when used together to train a linear model:\n",
        "* The range of the features is roughly the same.\n",
        "* To the extent possible the histogram of the features kind of resembles a bell curve.  Sometimes the data will fit this very well and other times it won't.\n",
        "\n",
        "Below are the methods to perform linear scaling and log scaling.  For this data set it will also be useful to have a feature transformation to cap the features to within a minimum and/or maximum value.  Most likely you will want to then linearly scale or log scale the feature after clipping it."
      ]
    },
    {
      "metadata": {
        "colab_type": "code",
        "id": "GaIy2hyRKUgE",
        "colab": {}
      },
      "cell_type": "code",
      "source": [
        "# Linearly rescales to the range [0, 1]\n",
        "def linear_scale(series):\n",
        "  min_val = series.min()\n",
        "  max_val = series.max()\n",
        "  scale = 1.0 * (max_val - min_val)\n",
        "  return series.apply(lambda x:((x - min_val) / scale))\n",
        "\n",
        "# Perform log scaling\n",
        "def log_scale(series):\n",
        "  return series.apply(lambda x:math.log(x+1.0))\n",
        "\n",
        "# Clip all features to given min and max\n",
        "def clip(series, clip_to_min, clip_to_max):\n",
        "  # You need to modify this to actually do the clipping versus just returning\n",
        "  # the series unchanged.\n",
        "  return series.apply(lambda x: x)"
      ],
      "execution_count": 0,
      "outputs": []
    },
    {
      "metadata": {
        "colab_type": "text",
        "id": "aFIYIXKVTQYB"
      },
      "cell_type": "markdown",
      "source": [
        "You can use this function to draw a histogram to help decide what kind of scaling is best to use for `households` and also to confirm your implementation of `clip` works as you intended."
      ]
    },
    {
      "metadata": {
        "colab_type": "code",
        "id": "LoxE90BfKnTQ",
        "colab": {}
      },
      "cell_type": "code",
      "source": [
        "clip_min = -np.inf\n",
        "clip_max = np.inf\n",
        "\n",
        "def draw_histograms(dataframe, feature_name,\n",
        "                    clip_min = -np.inf, clip_max = np.inf):\n",
        "  plt.figure(figsize=(20, 4))\n",
        "  plt.subplot(1, 3, 1)\n",
        "  plt.title(feature_name)\n",
        "  histogram = dataframe[feature_name].hist(bins=50)\n",
        "\n",
        "  plt.subplot(1, 3, 2)\n",
        "  plt.title(\"linear_scaling\")\n",
        "  scaled_features = pd.DataFrame()\n",
        "  scaled_features[feature_name] = linear_scale(\n",
        "      clip(dataframe[feature_name], clip_min, clip_max))\n",
        "  histogram = scaled_features[feature_name].hist(bins=50)\n",
        "  \n",
        "  plt.subplot(1, 3, 3)\n",
        "  plt.title(\"log scaling\")\n",
        "  log_normalized_features = pd.DataFrame()\n",
        "  log_normalized_features[feature_name] = log_scale(dataframe[feature_name])\n",
        "  histogram = log_normalized_features[feature_name].hist(bins=50)\n",
        "  \n",
        "draw_histograms(training_examples, 'households')"
      ],
      "execution_count": 0,
      "outputs": []
    },
    {
      "metadata": {
        "colab_type": "code",
        "id": "Ka910yRQLY9J",
        "colab": {}
      },
      "cell_type": "code",
      "source": [
        "print \"Now let's clip between 0 and 1000 before scaling.\"\n",
        "\n",
        "draw_histograms(training_examples, 'households', 0, 1000)"
      ],
      "execution_count": 0,
      "outputs": []
    },
    {
      "metadata": {
        "colab_type": "text",
        "id": "srotOZZ0MCMa"
      },
      "cell_type": "markdown",
      "source": [
        "The leftmost histogram is unchanged since that just shows the raw feature.  You should see a very visible change when you clip the feature before applying linear scaling. As you will often (but not always) find, for this particular feature log scaling worked well without the need to first clip the data.\n",
        "\n",
        "**Run the above code with features other than `households` to help decide what feature normalization to use for each feature.**  Feel free to duplicate the code box that calls `draw_histogram` if you'd like to show the histograms for multiple features."
      ]
    },
    {
      "metadata": {
        "colab_type": "text",
        "id": "NCLzj1XfqcMy"
      },
      "cell_type": "markdown",
      "source": [
        "## Task 3: Train the Best Model You Can (3 points)\n",
        "\n",
        "We expect you to take some time exploring the feature transformations and hyperparameters.\n",
        "\n",
        "Select any number of the provided features, create synthetic features you think will be informative, and modify the hyperparmaters to get a better model. You will want to edit preprocess_features to do some feature normalization like you saw in the [Using Multiple Numerical Features and Feature Scaling](https://colab.research.google.com/notebook#fileId=/v2/external/notebooks/intro_to_ml_semester_course/Lab_3__Using_Multiple_Numerical_Features_and_Feature_Scaling.ipynb). See how well you are able to do.\n",
        "\n",
        "**DO NOT APPLY ANY ADDITIONAL FEATURE TRANSFORMATION TO THE TARGET `median_price` since that would change the scale for RMSE.**\n",
        "\n",
        "* Summarize the changes you made that were the most important.\n",
        "* Once you find a model, try training 20 times more steps.  Does overfitting occur if you do that?\n"
      ]
    },
    {
      "metadata": {
        "colab_type": "code",
        "id": "6dHsVfa4m2JH",
        "colab": {}
      },
      "cell_type": "code",
      "source": [
        "def prepare_features(dataframe):\n",
        "  \"\"\"Prepares the features for provided dataset.\n",
        "\n",
        "  Args:\n",
        "    dataframe: A Pandas DataFrame expected to contain data from the\n",
        "      desired data set.\n",
        "  Returns:\n",
        "    A new dataFrame that contains the features to be used for the model.\n",
        "  \"\"\"\n",
        "  processed_features = dataframe.copy()\n",
        "  \n",
        "  # Modifying median_house_value to be in scale of $1000.  So a value of 14.0\n",
        "  # will correspond to $14,000.  This will make it a bit easier to work with.\n",
        "  processed_features[\"median_house_value\"] /= 1000.0\n",
        "  \n",
        "  # Perform your feature scaling here\n",
        "  \n",
        "  \n",
        "  # Add your synthetic features here along with the feature scaling you'd like\n",
        "  # to them. As a starting point linear scaling is used for rooms_per_person. \n",
        "  # You are encouraged to experiment with different scaling options.\n",
        "  processed_features[\"rooms_per_person\"] = (\n",
        "    linear_scale(dataframe[\"total_rooms\"] / dataframe[\"population\"]))\n",
        "  \n",
        "  return processed_features\n",
        "\n",
        "# Generate the training, validation and test examples\n",
        "training_examples = prepare_features(california_housing_dataframe.head(14000))\n",
        "validation_examples = prepare_features(california_housing_dataframe.tail(3000))\n",
        "test_examples = prepare_features(california_housing_test_data)\n",
        "\n",
        "training_examples.describe()"
      ],
      "execution_count": 0,
      "outputs": []
    },
    {
      "metadata": {
        "colab_type": "text",
        "id": "ITsEqEeNZFEW"
      },
      "cell_type": "markdown",
      "source": [
        "Here's the method to train the model.  You'l need to fill in the features you want to use."
      ]
    },
    {
      "metadata": {
        "colab_type": "code",
        "id": "8HMfGTXbZFgW",
        "colab": {}
      },
      "cell_type": "code",
      "source": [
        "# Fill in the features you want to use\n",
        "NUMERICAL_FEATURES = [\"total_rooms\"]\n",
        "LABEL = \"median_house_value\"\n",
        "\n",
        "LEARNING_RATE = 0.5\n",
        "STEPS = 100\n",
        "\n",
        "linear_regressor = define_linear_regression_model(learning_rate = LEARNING_RATE)\n",
        "linear_regressor = train_model(linear_regressor, steps=STEPS)"
      ],
      "execution_count": 0,
      "outputs": []
    },
    {
      "metadata": {
        "colab_type": "text",
        "id": "XUrmtr_CZ_ss"
      },
      "cell_type": "markdown",
      "source": [
        "You can look at the weights of the trained model."
      ]
    },
    {
      "metadata": {
        "colab_type": "code",
        "id": "UzNXgXjBZ-up",
        "colab": {}
      },
      "cell_type": "code",
      "source": [
        "# Let's also look at the weights and bias\n",
        "for feature in NUMERICAL_FEATURES:\n",
        "  print \"weight for\", feature, \":\", linear_regressor.get_variable_value(\n",
        "    \"linear/\" + feature + \"/weight\")[0]\n",
        "print \"bias:\",  linear_regressor.get_variable_value(\"linear/bias_weight\")"
      ],
      "execution_count": 0,
      "outputs": []
    },
    {
      "metadata": {
        "colab_type": "text",
        "id": "nzeH2UDRhI4U"
      },
      "cell_type": "markdown",
      "source": [
        "Check the loss on the test data after you are done selecting the learning rate and number of steps to run."
      ]
    },
    {
      "metadata": {
        "colab_type": "code",
        "id": "5CO5kC8suhrV",
        "colab": {}
      },
      "cell_type": "code",
      "source": [
        "print \"loss on test data is\", compute_loss(\n",
        "    linear_regressor, test_input_fn, test_examples[LABEL])"
      ],
      "execution_count": 0,
      "outputs": []
    },
    {
      "metadata": {
        "colab_type": "text",
        "id": "shyVGiUJY_k2"
      },
      "cell_type": "markdown",
      "source": [
        "Here's a code box for you to train your model with the same learning rate that worked best but to see what happens if you train it 20 times longer."
      ]
    },
    {
      "metadata": {
        "colab_type": "code",
        "id": "DnZbLqXkY-be",
        "colab": {}
      },
      "cell_type": "code",
      "source": [
        "# Fill in the features you want to use\n",
        "NUMERICAL_FEATURES = [\"total_rooms\"]\n",
        "LABEL = \"median_house_value\"\n",
        "\n",
        "LEARNING_RATE = 0.5\n",
        "STEPS = 100\n",
        "\n",
        "linear_regressor = define_linear_regression_model(learning_rate = LEARNING_RATE)\n",
        "linear_regressor = train_model(linear_regressor, steps=STEPS)"
      ],
      "execution_count": 0,
      "outputs": []
    },
    {
      "metadata": {
        "colab_type": "code",
        "id": "dPX42NvnTtz8",
        "colab": {}
      },
      "cell_type": "code",
      "source": [
        "\"\"\"\n",
        "Here's a place for you to answer these questions:\n",
        "\n",
        "\n",
        "A) Summarize the changes you made that were the most important.\n",
        "\n",
        "\n",
        "B) Once you find a model, try training 20 times more steps.  Does overfitting\n",
        "   occur if you do that?\n",
        "\n",
        "\"\"\""
      ],
      "execution_count": 0,
      "outputs": []
    }
  ]
}